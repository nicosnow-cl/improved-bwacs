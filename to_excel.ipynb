{
 "cells": [
  {
   "cell_type": "code",
   "execution_count": 21,
   "metadata": {},
   "outputs": [],
   "source": [
    "import os\n",
    "from src.helpers import csv_to_dataframe, sorted_alphanumeric\n",
    "from IPython.display import display\n",
    "import pandas as pd"
   ]
  },
  {
   "cell_type": "code",
   "execution_count": 22,
   "metadata": {},
   "outputs": [],
   "source": [
    "BASE_PATH = 'to_excel'\n",
    "cvrplibs = sorted_alphanumeric([ cvrplib for cvrplib in os.listdir(BASE_PATH)])\n",
    "\n",
    "for cvrplib in cvrplibs[1:]:\n",
    "    instances_folder = sorted_alphanumeric([instance_folder for instance_folder in os.listdir(f'{BASE_PATH}/{cvrplib}')])\n",
    "\n",
    "    final_dfs = []\n",
    "    final_folder = f'{BASE_PATH}/{cvrplib}'\n",
    "    for instance_folder in instances_folder[1:]:\n",
    "        instance_dfs = { 'instance': instance_folder, 'dfs': [] }\n",
    "        results_for_instance = sorted_alphanumeric([result.replace('.csv', '') for result in os.listdir(f'{BASE_PATH}/{cvrplib}/{instance_folder}')])\n",
    "        \n",
    "        for result in results_for_instance:\n",
    "            df = csv_to_dataframe(f'{final_folder}/{instance_folder}/{result}.csv')\n",
    "            df['name'] = result\n",
    "            df.loc[len(df)] = [''] * len(df.columns)\n",
    "            instance_dfs['dfs'].append(df)\n",
    "\n",
    "        final_dfs.append(instance_dfs)\n",
    "\n",
    "    writer = pd.ExcelWriter(f'{final_folder}/results.xlsx', engine='xlsxwriter')\n",
    "    for instance_dfs in final_dfs:\n",
    "        df = pd.concat([df for df in instance_dfs['dfs']], axis=0)\n",
    "        df.to_excel(writer, sheet_name=instance_dfs['instance'])\n",
    "    writer.save()"
   ]
  }
 ],
 "metadata": {
  "kernelspec": {
   "display_name": "Python 3.7.16 (conda)",
   "language": "python",
   "name": "python3"
  },
  "language_info": {
   "codemirror_mode": {
    "name": "ipython",
    "version": 3
   },
   "file_extension": ".py",
   "mimetype": "text/x-python",
   "name": "python",
   "nbconvert_exporter": "python",
   "pygments_lexer": "ipython3",
   "version": "3.7.16"
  },
  "orig_nbformat": 4,
  "vscode": {
   "interpreter": {
    "hash": "af8e09bbb1bbee52adbf17f15db124bf91eee1e990e6beca17e1f3bbe7627a14"
   }
  }
 },
 "nbformat": 4,
 "nbformat_minor": 2
}

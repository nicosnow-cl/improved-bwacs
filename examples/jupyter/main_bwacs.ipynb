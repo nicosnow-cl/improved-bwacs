{
 "cells": [
  {
   "cell_type": "code",
   "execution_count": null,
   "metadata": {},
   "outputs": [],
   "source": [
    "# Third-party imports\n",
    "from math import ceil\n",
    "\n",
    "# Own imports\n",
    "from src.display import DisplayModel\n",
    "from src.new.aco import FreeAnt\n",
    "from src.new.acs import BWACS\n",
    "from src.new.helpers import get_distances_matrix\n",
    "from src.new.heuristics import HeuristicModel\n",
    "from src.new.metaheuristics import GeneralVNS\n",
    "from src.new.models import VRPModel\n",
    "from src.readers import ReaderCVRPLIB"
   ]
  },
  {
   "cell_type": "code",
   "execution_count": null,
   "metadata": {},
   "outputs": [],
   "source": [
    "# Parameters to handle the algorithm\n",
    "%matplotlib inline\n",
    "\n",
    "ALPHA = 1 # 0.75, 1, 1.05, 1.1, 1.25, 1.5, 1.75, 2\n",
    "ANTS_NUM_RELATION = 2  # 1, 2\n",
    "BETA = 2  # 2, 2.5, 3,  3.5\n",
    "CANDIDATE_NODES_TYPE = None  # None, 'best', 'random'\n",
    "DELTA = 2  # 1, 2, 3, 4\n",
    "GAMMA = 1  # 1, 1.5 2\n",
    "# ['distance'], ['saving'], ['distance', 'saving']\n",
    "HEURISTICS_TO_USE = ['distance', 'saving']\n",
    "INSTANCE = 'instances/CVRPLIB/CMT/CMT1'\n",
    "ITERATION_LOCAL_SEARCH_MODEL = None  # None, GeneralVNS\n",
    "MAX_ITERATIONS = 5000\n",
    "MIN_ITERATIONS = 1000\n",
    "P = 0.2  # 0.05, 0.1, 0.15, 0.2, 0.25, 0.3\n",
    "P_M = 0.1 # 0.05, 0.1, 0.15, 0.2, 0.25, 0.3\n",
    "PHEROMONES_LOCAL_UPDATE = False\n",
    "PROBABILITIES_MATRIX_TYPE = 'classic'  # 'classic', 'normalized'\n",
    "Q_0 = 0.85 # 0.8, 0.85, 0.9, 0.95\n",
    "SIMILARITY_OF_ARCS_TO_DO_RESTART = 0.8  # None, 0.5, 0.6, 0.7, 0.75, 0.8\n",
    "# None, 0.885, 0.89, 0.9, 0.92, 0.95, 0.99\n",
    "SIMILARITY_OF_QUALITIES_TO_DO_RESTART = None\n",
    "TARE_PERCENTAGE = 0.15\n",
    "MUTATION_TYPE = 'rows' # None, 'rows', 'arcs'\n",
    "\n",
    "# Parameters to handle the display\n",
    "PLOT_INSTANCE = False\n",
    "PLOT_SOLUTION = True\n"
   ]
  },
  {
   "cell_type": "code",
   "execution_count": null,
   "metadata": {},
   "outputs": [],
   "source": [
    "# Initialize everything\n",
    "\n",
    "reader = ReaderCVRPLIB(INSTANCE)\n",
    "depot, clients, loc_x, loc_y, demands, _, max_capacity, k_optimal, _ = \\\n",
    "    reader.read()\n",
    "\n",
    "nodes, demands, matrix_coords = VRPModel.get_normalize_instance_parameters(\n",
    "    depot,\n",
    "    clients,\n",
    "    demands,\n",
    "    loc_x,\n",
    "    loc_y)\n",
    "\n",
    "errors = VRPModel.validate_instance(nodes, demands, max_capacity)\n",
    "if errors:\n",
    "    raise Exception(errors)\n",
    "\n",
    "iterations = max(round(len(nodes), -2), MIN_ITERATIONS)\n",
    "matrix_distances = get_distances_matrix(nodes, matrix_coords)\n",
    "\n",
    "parameters_heuristics = {\n",
    "    'demands': demands,\n",
    "    'importance_distances': BETA,\n",
    "    'importance_savings': GAMMA,\n",
    "    'matrix_coords': matrix_coords,\n",
    "    'nodes': nodes,\n",
    "}\n",
    "\n",
    "heuristics = HeuristicModel(**parameters_heuristics)\n",
    "matrix_heuristics = heuristics.get_heuristic_matrix(HEURISTICS_TO_USE)\n",
    "\n",
    "parameters_ants = {\n",
    "    'alpha': ALPHA,\n",
    "    'ants_num': ceil(len(clients) / ANTS_NUM_RELATION),\n",
    "    'beta': BETA,\n",
    "    'delta': DELTA,\n",
    "    'demands': demands,\n",
    "    'ipynb': True,\n",
    "    'k_optimal': k_optimal,\n",
    "    'matrix_costs': matrix_distances,\n",
    "    'matrix_heuristics': matrix_heuristics,\n",
    "    'max_capacity': max_capacity,\n",
    "    'max_iterations': min(iterations, MAX_ITERATIONS),\n",
    "    'model_ant': FreeAnt,\n",
    "    'model_ls_it': ITERATION_LOCAL_SEARCH_MODEL,\n",
    "    'model_problem': VRPModel,\n",
    "    'nodes': nodes,\n",
    "    'p_m': P_M,\n",
    "    'p': P,\n",
    "    'percent_arcs_limit': SIMILARITY_OF_ARCS_TO_DO_RESTART,\n",
    "    'percent_quality_limit': SIMILARITY_OF_QUALITIES_TO_DO_RESTART,\n",
    "    'pheromones_local_update': PHEROMONES_LOCAL_UPDATE,\n",
    "    'q0': Q_0,\n",
    "    'tare': max_capacity * TARE_PERCENTAGE,\n",
    "    'type_candidate_nodes': CANDIDATE_NODES_TYPE,\n",
    "    'type_mutation': MUTATION_TYPE,\n",
    "}"
   ]
  },
  {
   "cell_type": "code",
   "execution_count": null,
   "metadata": {},
   "outputs": [],
   "source": [
    "# Render the problem\n",
    "\n",
    "if PLOT_INSTANCE:\n",
    "    instance_name = INSTANCE.split('/')[-1]\n",
    "    DisplayModel.render_problem(nodes, demands, matrix_coords, instance_name)"
   ]
  },
  {
   "cell_type": "code",
   "execution_count": null,
   "metadata": {},
   "outputs": [],
   "source": [
    "# Run the algorithm\n",
    "\n",
    "bwacs = BWACS(**parameters_ants)\n",
    "global_best_solution, best_solutions, avg_costs, median_costs = bwacs.run()"
   ]
  },
  {
   "cell_type": "code",
   "execution_count": null,
   "metadata": {},
   "outputs": [],
   "source": [
    "if PLOT_SOLUTION:\n",
    "    instance_name = INSTANCE.split('/')[-1]\n",
    "    DisplayModel.render_solution(global_best_solution, matrix_coords, instance_name, best_solutions, avg_costs, median_costs)"
   ]
  }
 ],
 "metadata": {
  "kernelspec": {
   "display_name": "Python 3",
   "language": "python",
   "name": "python3"
  },
  "language_info": {
   "codemirror_mode": {
    "name": "ipython",
    "version": 3
   },
   "file_extension": ".py",
   "mimetype": "text/x-python",
   "name": "python",
   "nbconvert_exporter": "python",
   "pygments_lexer": "ipython3",
   "version": "3.7.16"
  },
  "orig_nbformat": 4
 },
 "nbformat": 4,
 "nbformat_minor": 2
}

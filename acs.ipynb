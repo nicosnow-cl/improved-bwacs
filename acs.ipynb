{
 "cells": [
  {
   "cell_type": "code",
   "execution_count": null,
   "metadata": {},
   "outputs": [],
   "source": [
    "import numpy as np\n",
    "\n",
    "from src.new.aco import FreeAnt\n",
    "from src.new.acs import ACS\n",
    "from src.new.helpers import get_coords_matrix, get_distances_matrix\n",
    "from src.new.models import VRPModel\n",
    "from src.readers import ReaderCVRPLIB\n",
    "\n",
    "ALPHA = 1\n",
    "BETA = 2\n",
    "INSTANCE = 'instances/CVRPLIB/CMT/CMT1'\n",
    "MAX_ITERATIONS = 250\n",
    "P = 0.2\n",
    "Q_0 = 0.8\n",
    "SIMILARITY_PERCENTAGE_TO_DO_RESTART = 50\n",
    "TARE_PERCENTAGE = 0.15"
   ]
  },
  {
   "cell_type": "code",
   "execution_count": null,
   "metadata": {},
   "outputs": [],
   "source": [
    "reader = ReaderCVRPLIB(INSTANCE)\n",
    "depot, clients, loc_x, loc_y, demands_array, total_demand, max_capacity, k, tightness_ratio = reader.read()\n",
    "\n",
    "nodes = [depot] + clients\n",
    "loc_x_lst = [loc_x[node] for node in nodes]\n",
    "loc_y_lst = [loc_y[node] for node in nodes]\n",
    "coords_matrix = get_coords_matrix(nodes, loc_x_lst, loc_y_lst)\n",
    "matrix_costs = get_distances_matrix(nodes, coords_matrix)\n",
    "\n",
    "parameters = {\n",
    "    'alpha': ALPHA,\n",
    "    'ants_num': len(clients),\n",
    "    'beta': BETA,\n",
    "    'delta': 2,\n",
    "    'demands_array': np.array([demands_array[node] for node in demands_array]),\n",
    "    'ipynb': True,\n",
    "    'k_optimal': k,\n",
    "    'matrix_costs': matrix_costs,\n",
    "    'matrix_heuristics': matrix_costs,\n",
    "    'max_capacity': max_capacity,\n",
    "    'max_iterations': MAX_ITERATIONS,\n",
    "    'model_ant': FreeAnt,\n",
    "    'model_problem': VRPModel,\n",
    "    'nodes': nodes,\n",
    "    'p': P,\n",
    "    'q0': Q_0,\n",
    "    'similarity_percentage_to_do_restart': SIMILARITY_PERCENTAGE_TO_DO_RESTART,\n",
    "    'tare': max_capacity * TARE_PERCENTAGE,\n",
    "}\n",
    "\n",
    "acs = ACS(**parameters)\n",
    "acs.run()"
   ]
  }
 ],
 "metadata": {
  "kernelspec": {
   "display_name": "Python 3",
   "language": "python",
   "name": "python3"
  },
  "language_info": {
   "codemirror_mode": {
    "name": "ipython",
    "version": 3
   },
   "file_extension": ".py",
   "mimetype": "text/x-python",
   "name": "python",
   "nbconvert_exporter": "python",
   "pygments_lexer": "ipython3",
   "version": "3.7.16"
  },
  "orig_nbformat": 4,
  "vscode": {
   "interpreter": {
    "hash": "0219bcfb8dd41b25d52dea656c876c35b3ff66c9b938e34b17222681897c4b3e"
   }
  }
 },
 "nbformat": 4,
 "nbformat_minor": 2
}

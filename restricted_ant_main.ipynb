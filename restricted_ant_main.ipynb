{
 "cells": [
  {
   "cell_type": "code",
   "execution_count": null,
   "metadata": {
    "ExecuteTime": {
     "end_time": "2021-04-04T01:41:03.799441Z",
     "start_time": "2021-04-04T01:41:03.785438Z"
    }
   },
   "outputs": [],
   "source": [
    "from IPython.core.display import display, HTML\n",
    "display(HTML(\"<style>.container { width: 100% !important; }</style>\"))"
   ]
  },
  {
   "cell_type": "code",
   "execution_count": null,
   "metadata": {
    "ExecuteTime": {
     "end_time": "2021-04-04T01:41:17.374750Z",
     "start_time": "2021-04-04T01:41:03.801442Z"
    },
    "scrolled": true
   },
   "outputs": [],
   "source": [
    "from datetime import datetime\n",
    "import os\n",
    "\n",
    "solutions_list = []\n",
    "max_runs = 10\n",
    "dct_with_header = False\n",
    "save_results = True\n",
    "_instance = 'CMT1'\n",
    "_cluster_type = 'K-MEANS'\n",
    "\n",
    "# Creación del archivo de texto plano con los resultados\n",
    "now = datetime.now()\n",
    "dt_string = now.strftime('%Y%m%d_%H-%M-%S')\n",
    "aco_cluster = 'Restricted Ant + ' + _cluster_type # Titulo del archivo .txt\n",
    "ant_type = 'RA' # FA o RA (FREE ANT - RESTRICTED ANT) para el titulo del archivo\n",
    "cluster_type = _cluster_type.replace('-', '').upper()[0:4] # KMEN o KMED (K-MEANS - K-MEDOIDS) para el titulo del archivo\n",
    "instance = _instance # Nombre de la carpeta\n",
    "file_folder = 'instances_results/' + instance # Carpeta raiz de resultados\n",
    "file_folder_img = 'instances_results/' + instance + '/img_results'\n",
    "if not os.path.exists(file_folder): os.makedirs(file_folder)\n",
    "if not os.path.exists(file_folder_img): os.makedirs(file_folder_img)\n",
    "file_name = ant_type + '_' + cluster_type + '_' + dt_string + '.txt'\n",
    "\n",
    "for run in range(max_runs): \n",
    "    %matplotlib inline\n",
    "    from restricted_bwacs_model import RestrictedBWACS\n",
    "    aco_model = RestrictedBWACS(\n",
    "        # Nombre de la instancia\n",
    "        instance = 'CVRPLIB/CMT/' + _instance,\n",
    "        # Número máximo de nodos\n",
    "        max_nodes = 999, \n",
    "        # Costo a minimizar\n",
    "        ant_type = 'emvrp',\n",
    "        # Tipo de clustering | kmedoids - kmeans |\n",
    "        cluster_type = _cluster_type.replace('-', '').lower(),\n",
    "        # Métrica de distancia | euclidian - manhattan |\n",
    "        metric = 'euclidian',\n",
    "        # Peso del vehículo | corresponde al producto entre la cápacidad máxima y un porcentaje = Q * 0.15\n",
    "        tare = 0.15,\n",
    "        # Número máximo de iteraciones\n",
    "        max_iterations = 50,\n",
    "        # Cántidad de hormigas por iteracion\n",
    "        max_ants = 25,\n",
    "        # Inicializar cada hormiga en un nodo disinto dentro de una lista de candidatos. De lo contrario cada hormiga comenzara su recorrido en el depot | 0 - 1 |\n",
    "        start_ant_on_best_nodes = 1,\n",
    "        # Valor de importancia de las feromonas / Mejor alpha: [1, 3]\n",
    "        alpha = 3,\n",
    "        # Valor de importancia de la distancia\n",
    "        beta = 2,\n",
    "        # Valor de importancia de la energia\n",
    "        gamma = 3,\n",
    "        # Valor de importancia del ahorro de distancia\n",
    "        delta = 1,\n",
    "        # Valor de importancia del ahorro de energia\n",
    "        eta = 1,\n",
    "        # Valor de importancia de la utilización de capacidad\n",
    "        mi = 0,\n",
    "        # Que tipo de estrategia de actualización de feromonas usar (1 / BestQuality) o Ant Weight Strategy | 0 - 1 |\n",
    "        pheromone_updating_strategy = 1,\n",
    "        # Actualización de feromonas por hormiga | 0 - 1 |\n",
    "        local_ant_update_pheromones = 0,\n",
    "        # Actualización de feromonas por la mejor de la iteración | 0 - 1 |\n",
    "        best_iteration_update_pheromones = 1,\n",
    "        # Actualización de feromonas por la mejor global | 0 - 1 |\n",
    "        best_global_update_pheromones = 1,\n",
    "        # Penalizar peor solución de la iteración | 0 - 1 |\n",
    "        penalize_worst_solution = 1,\n",
    "        # Mutar matriz de feromonas | 0 - 1 |\n",
    "        mutate_pheromones_matrix = 1,\n",
    "        # Ratio de evaporación de las feromonas | (1 - p) |\n",
    "        p = 0.02,\n",
    "        # Probabilidad de mutación de la matriz de feromonas\n",
    "        Pm = 0.3, \n",
    "        # Intensidad de la mutación de la matriz de feromonas\n",
    "        sigma = 2, \n",
    "        # Probabilidad de elegir el mejor nodo\n",
    "        q0 = 0.3, \n",
    "        # Constante para calcular las funciones de costos entre otras | Q / BestTour |\n",
    "        Q = 1,\n",
    "        # El tipo de información heuristica a utilizar\n",
    "        # 0 - Solo la información de distancias / Mejor beta: 5\n",
    "        # 1 - Solo la información de energias / Mejor gamma: 5\n",
    "        # 2 - Información de distancias X energias / Mejores parametros: 5 - 5\n",
    "        # 3 - Solo información de ahorro de distancia | saving's algorithm | / Mejor delta: 10\n",
    "        # 4 - Solo información de ahorro de energia | saving's algorithm | / Mejor eta: 10\n",
    "        # 5 - Información de distancias X ahorro de distancia / Mejores parametros: 4 - 5\n",
    "        # 6 - Información de energias X ahorro de energia / Mejores parametros: 5 - 5\n",
    "        # 7 - Información de distancias X información energias X ahorro de distancia / Mejores parametros: 3 - 4 - 3\n",
    "        # 8 - Información de distancias X información energias X ahorro de energias / Mejores parametros: 3 - 4 - 3\n",
    "        # 9 - Información de distancias X información de energias X ahorro de distancia X información de capacidad / Mejores parametros: 2 - 4 - 4 - 2\n",
    "        # 10 - Información de distancias X información de energias X ahorro de energia X información de capacidad / Mejores parametros: 2 - 4 - 4 - 2\n",
    "        # 11 - Información de distancias X información de energias X ahorro de distancia X ahorro de energia X información de capacidad / Parametros: 2 - 4 - 3 - 4 - 1\n",
    "        heuristic_type = 8,\n",
    "        # Busqueda local a la solución individual de cada hormiga | 0 - 1 |\n",
    "        ls_ant_solution = 0,\n",
    "        # Busqueda local a la solución final | 0 - 1 |\n",
    "        ls_final_solution = 0,\n",
    "        # Output folder/name solution draw\n",
    "        output_sol_img = file_folder_img + '/' + str(run + 1) + '__' + ant_type + '_' + cluster_type + '_' + dt_string + '.png'\n",
    "    )\n",
    "    \n",
    "    solution_energy, solution_distance, solution_time = aco_model.solve()\n",
    "    solutions_list.append((solution_energy, solution_distance, solution_time))\n",
    "\n",
    "print(solutions_list)\n",
    "print(\"Best Solution: \" + str(min(solutions_list, key=lambda x: x[0])) + \" on run: \" + str(solutions_list.index(min(solutions_list, key=lambda x: x[0])) + 1))\n",
    "\n",
    "if (save_results):\n",
    "    file = open(file_folder + '/' + file_name, 'a')\n",
    "    if dct_with_header: file.write('Resultados para la ' + instance + ' (' + aco_cluster + ') [energia, distancia, tiempo de ejecución]\\n\\n')\n",
    "    for i, solution in enumerate(solutions_list):\n",
    "        if dct_with_header: file.write(str(i + 1) + '| ' + str(solution) + '\\n')\n",
    "        else: \n",
    "            str_sol = str(solution).replace('(', '').replace(')', '').replace(',', '').replace('.', ',')\n",
    "            file.write(str_sol + '\\n')\n",
    "\n",
    "    file.close()"
   ]
  },
  {
   "cell_type": "code",
   "execution_count": null,
   "metadata": {},
   "outputs": [],
   "source": []
  }
 ],
 "metadata": {
  "kernelspec": {
   "display_name": "Python 3",
   "language": "python",
   "name": "python3"
  },
  "language_info": {
   "codemirror_mode": {
    "name": "ipython",
    "version": 3
   },
   "file_extension": ".py",
   "mimetype": "text/x-python",
   "name": "python",
   "nbconvert_exporter": "python",
   "pygments_lexer": "ipython3",
   "version": "3.7.16"
  },
  "varInspector": {
   "cols": {
    "lenName": 16,
    "lenType": 16,
    "lenVar": 40
   },
   "kernels_config": {
    "python": {
     "delete_cmd_postfix": "",
     "delete_cmd_prefix": "del ",
     "library": "var_list.py",
     "varRefreshCmd": "print(var_dic_list())"
    },
    "r": {
     "delete_cmd_postfix": ") ",
     "delete_cmd_prefix": "rm(",
     "library": "var_list.r",
     "varRefreshCmd": "cat(var_dic_list()) "
    }
   },
   "types_to_exclude": [
    "module",
    "function",
    "builtin_function_or_method",
    "instance",
    "_Feature"
   ],
   "window_display": false
  }
 },
 "nbformat": 4,
 "nbformat_minor": 2
}
